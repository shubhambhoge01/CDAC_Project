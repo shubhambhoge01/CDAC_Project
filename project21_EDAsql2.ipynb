{
 "cells": [
  {
   "cell_type": "code",
   "execution_count": 1,
   "metadata": {
    "vscode": {
     "languageId": "json"
    }
   },
   "outputs": [
    {
     "name": "stdout",
     "output_type": "stream",
     "text": [
      "Starting Spark application\n"
     ]
    },
    {
     "data": {
      "text/html": [
       "<table>\n",
       "<tr><th>ID</th><th>YARN Application ID</th><th>Kind</th><th>State</th><th>Spark UI</th><th>Driver log</th><th>Current session?</th></tr><tr><td>1</td><td>application_1649606043963_0002</td><td>pyspark</td><td>idle</td><td><a target=\"_blank\" href=\"http://ip-172-31-70-19.ec2.internal:20888/proxy/application_1649606043963_0002/\">Link</a></td><td><a target=\"_blank\" href=\"http://ip-172-31-79-164.ec2.internal:8042/node/containerlogs/container_1649606043963_0002_01_000001/livy\">Link</a></td><td>✔</td></tr></table>"
      ],
      "text/plain": [
       "<IPython.core.display.HTML object>"
      ]
     },
     "metadata": {},
     "output_type": "display_data"
    },
    {
     "data": {
      "application/vnd.jupyter.widget-view+json": {
       "model_id": "",
       "version_major": 2,
       "version_minor": 0
      },
      "text/plain": [
       "FloatProgress(value=0.0, bar_style='info', description='Progress:', layout=Layout(height='25px', width='50%'),…"
      ]
     },
     "metadata": {},
     "output_type": "display_data"
    },
    {
     "name": "stdout",
     "output_type": "stream",
     "text": [
      "SparkSession available as 'spark'.\n"
     ]
    },
    {
     "data": {
      "application/vnd.jupyter.widget-view+json": {
       "model_id": "",
       "version_major": 2,
       "version_minor": 0
      },
      "text/plain": [
       "FloatProgress(value=0.0, bar_style='info', description='Progress:', layout=Layout(height='25px', width='50%'),…"
      ]
     },
     "metadata": {},
     "output_type": "display_data"
    }
   ],
   "source": [
    "import pyspark\n",
    "from pyspark.sql.session import SparkSession\n",
    "\n",
    "spark = SparkSession \\\n",
    ".builder \\\n",
    ".appName(\"eda_query\") \\\n",
    ".enableHiveSupport()\\\n",
    ".getOrCreate()"
   ]
  },
  {
   "cell_type": "code",
   "execution_count": 2,
   "metadata": {
    "vscode": {
     "languageId": "json"
    }
   },
   "outputs": [
    {
     "data": {
      "application/vnd.jupyter.widget-view+json": {
       "model_id": "",
       "version_major": 2,
       "version_minor": 0
      },
      "text/plain": [
       "FloatProgress(value=0.0, bar_style='info', description='Progress:', layout=Layout(height='25px', width='50%'),…"
      ]
     },
     "metadata": {},
     "output_type": "display_data"
    }
   ],
   "source": [
    "from pyspark.sql.functions import *\n",
    "from pyspark.context import SparkContext\n",
    "from pyspark.sql import SQLContext"
   ]
  },
  {
   "cell_type": "code",
   "execution_count": 3,
   "metadata": {
    "vscode": {
     "languageId": "json"
    }
   },
   "outputs": [
    {
     "data": {
      "application/vnd.jupyter.widget-view+json": {
       "model_id": "",
       "version_major": 2,
       "version_minor": 0
      },
      "text/plain": [
       "FloatProgress(value=0.0, bar_style='info', description='Progress:', layout=Layout(height='25px', width='50%'),…"
      ]
     },
     "metadata": {},
     "output_type": "display_data"
    }
   ],
   "source": [
    "from pyspark.sql.functions import regexp_replace\n",
    "from pyspark.sql.functions import *\n",
    "from pyspark.sql import *\n",
    "from pyspark.sql.types import *\n",
    "from functools import reduce  \n",
    "from pyspark.sql.functions import split"
   ]
  },
  {
   "cell_type": "markdown",
   "metadata": {},
   "source": [
    "#### s3 bucket name --> project21-vita , folder--> kaggle [store file from kaggle]"
   ]
  },
  {
   "cell_type": "markdown",
   "metadata": {},
   "source": [
    "### Reading Business file"
   ]
  },
  {
   "cell_type": "code",
   "execution_count": 4,
   "metadata": {
    "vscode": {
     "languageId": "json"
    }
   },
   "outputs": [
    {
     "data": {
      "application/vnd.jupyter.widget-view+json": {
       "model_id": "",
       "version_major": 2,
       "version_minor": 0
      },
      "text/plain": [
       "FloatProgress(value=0.0, bar_style='info', description='Progress:', layout=Layout(height='25px', width='50%'),…"
      ]
     },
     "metadata": {},
     "output_type": "display_data"
    }
   ],
   "source": [
    "business = spark.read.format(\"csv\") \\\n",
    "                         .option(\"header\", \"true\") \\\n",
    "                         .option(\"inferSchema\", \"true\") \\\n",
    "                         .option(\"quote\", \"\\\"\")\\\n",
    "                         .option(\"escape\", \"\\\"\")\\\n",
    "                         .load(\"s3://project21-vita/kaggle/business.csv\")"
   ]
  },
  {
   "cell_type": "code",
   "execution_count": 5,
   "metadata": {
    "vscode": {
     "languageId": "json"
    }
   },
   "outputs": [
    {
     "data": {
      "application/vnd.jupyter.widget-view+json": {
       "model_id": "",
       "version_major": 2,
       "version_minor": 0
      },
      "text/plain": [
       "FloatProgress(value=0.0, bar_style='info', description='Progress:', layout=Layout(height='25px', width='50%'),…"
      ]
     },
     "metadata": {},
     "output_type": "display_data"
    }
   ],
   "source": [
    "business1 = business.drop(\"neighborhood\")"
   ]
  },
  {
   "cell_type": "code",
   "execution_count": 6,
   "metadata": {
    "vscode": {
     "languageId": "json"
    }
   },
   "outputs": [
    {
     "data": {
      "application/vnd.jupyter.widget-view+json": {
       "model_id": "",
       "version_major": 2,
       "version_minor": 0
      },
      "text/plain": [
       "FloatProgress(value=0.0, bar_style='info', description='Progress:', layout=Layout(height='25px', width='50%'),…"
      ]
     },
     "metadata": {},
     "output_type": "display_data"
    }
   ],
   "source": [
    "business2 = business1.na.fill(value='Edinburgh',subset=[\"city\"])"
   ]
  },
  {
   "cell_type": "code",
   "execution_count": 7,
   "metadata": {
    "vscode": {
     "languageId": "json"
    }
   },
   "outputs": [
    {
     "data": {
      "application/vnd.jupyter.widget-view+json": {
       "model_id": "",
       "version_major": 2,
       "version_minor": 0
      },
      "text/plain": [
       "FloatProgress(value=0.0, bar_style='info', description='Progress:', layout=Layout(height='25px', width='50%'),…"
      ]
     },
     "metadata": {},
     "output_type": "display_data"
    }
   ],
   "source": [
    "business3 = business2.na.fill(value='NV',subset=[\"State\"])"
   ]
  },
  {
   "cell_type": "code",
   "execution_count": 8,
   "metadata": {
    "vscode": {
     "languageId": "json"
    }
   },
   "outputs": [
    {
     "data": {
      "application/vnd.jupyter.widget-view+json": {
       "model_id": "",
       "version_major": 2,
       "version_minor": 0
      },
      "text/plain": [
       "FloatProgress(value=0.0, bar_style='info', description='Progress:', layout=Layout(height='25px', width='50%'),…"
      ]
     },
     "metadata": {},
     "output_type": "display_data"
    }
   ],
   "source": [
    "business4 = business3.na.fill(value='',subset=[\"postal_code\"])"
   ]
  },
  {
   "cell_type": "code",
   "execution_count": 9,
   "metadata": {
    "vscode": {
     "languageId": "json"
    }
   },
   "outputs": [
    {
     "data": {
      "application/vnd.jupyter.widget-view+json": {
       "model_id": "",
       "version_major": 2,
       "version_minor": 0
      },
      "text/plain": [
       "FloatProgress(value=0.0, bar_style='info', description='Progress:', layout=Layout(height='25px', width='50%'),…"
      ]
     },
     "metadata": {},
     "output_type": "display_data"
    }
   ],
   "source": [
    "business5 = business4.na.fill(value=43.651070 , subset=[\"Latitude\"])"
   ]
  },
  {
   "cell_type": "code",
   "execution_count": 10,
   "metadata": {
    "vscode": {
     "languageId": "json"
    }
   },
   "outputs": [
    {
     "data": {
      "application/vnd.jupyter.widget-view+json": {
       "model_id": "",
       "version_major": 2,
       "version_minor": 0
      },
      "text/plain": [
       "FloatProgress(value=0.0, bar_style='info', description='Progress:', layout=Layout(height='25px', width='50%'),…"
      ]
     },
     "metadata": {},
     "output_type": "display_data"
    }
   ],
   "source": [
    "business6 = business5.na.fill(value=-79.347015 , subset=[\"longitude\"])"
   ]
  },
  {
   "cell_type": "code",
   "execution_count": 11,
   "metadata": {
    "vscode": {
     "languageId": "json"
    }
   },
   "outputs": [
    {
     "data": {
      "application/vnd.jupyter.widget-view+json": {
       "model_id": "",
       "version_major": 2,
       "version_minor": 0
      },
      "text/plain": [
       "FloatProgress(value=0.0, bar_style='info', description='Progress:', layout=Layout(height='25px', width='50%'),…"
      ]
     },
     "metadata": {},
     "output_type": "display_data"
    }
   ],
   "source": [
    "business7 = business6.withColumn('state', regexp_replace('state', '6', 'STE'))\\\n",
    ".withColumn('state', regexp_replace('state', '30', 'OCC'))\\\n",
    ".withColumn('state', regexp_replace('state', '3', 'NOE'))\\\n",
    ".withColumn('state', regexp_replace('state', '01', 'Viken'))"
   ]
  },
  {
   "cell_type": "code",
   "execution_count": null,
   "id": "fde28f42",
   "metadata": {
    "vscode": {
     "languageId": "json"
    }
   },
   "outputs": [],
   "source": [
    "business8 = business7.withColumn('is_open', regexp_replace('is_open', '0', 'close'))\\\n",
    ".withColumn('is_open', regexp_replace('is_open', '1', 'open'))\\\n",
    ".withColumn('name', regexp_replace('name', '\"', ''))\\\n",
    ".withColumn('address', regexp_replace('address', '\"', ''))"
   ]
  },
  {
   "cell_type": "markdown",
   "metadata": {},
   "source": [
    "### saving file"
   ]
  },
  {
   "cell_type": "code",
   "execution_count": 12,
   "metadata": {
    "vscode": {
     "languageId": "json"
    }
   },
   "outputs": [
    {
     "data": {
      "application/vnd.jupyter.widget-view+json": {
       "model_id": "",
       "version_major": 2,
       "version_minor": 0
      },
      "text/plain": [
       "FloatProgress(value=0.0, bar_style='info', description='Progress:', layout=Layout(height='25px', width='50%'),…"
      ]
     },
     "metadata": {},
     "output_type": "display_data"
    }
   ],
   "source": [
    "spark.sql(\"create database yelp\")"
   ]
  },
  {
   "cell_type": "code",
   "execution_count": null,
   "id": "23dc4b67",
   "metadata": {
    "vscode": {
     "languageId": "json"
    }
   },
   "outputs": [],
   "source": [
    "business8.createOrReplaceTempView(\"business\")"
   ]
  },
  {
   "cell_type": "code",
   "execution_count": null,
   "id": "4180a541",
   "metadata": {
    "vscode": {
     "languageId": "json"
    }
   },
   "outputs": [],
   "source": [
    "business8.write.saveAsTable(\"yelp.business\")"
   ]
  },
  {
   "cell_type": "code",
   "execution_count": null,
   "id": "36043dfe",
   "metadata": {
    "vscode": {
     "languageId": "json"
    }
   },
   "outputs": [],
   "source": [
    "business_restaurant = business8.filter((business8.categories.like(\"%Pizza%\"))|(business8.categories.like(\"%Restaurants%\"))|(business8.categories.like(\"%Diners%\"))|(business8.categories.like(\"%Coffee & Tea%\"))|(business8.categories.like(\"%Ice Cream%\"))|(business8.categories.like(\"%Juice Bars & Smoothies%\"))|(business8.categories.like(\"%Seafood%\"))|(business8.categories.like(\"%Barbeque%\"))|(business8.categories.like(\"%Donuts%\"))|(business8.categories.like(\"%Thai%\"))|(business8.categories.like(\"%bars%\"))|(business8.categories.like(\"%Sushi Bars%\"))|(business8.categories.like(\"%Ramen%\"))|(business8.categories.like(\"%Taiwanese%\"))|(business8.categories.like(\"%Specialty Food%\"))|(business8.categories.like(\"%Vietnamese%\"))|(business8.categories.like(\"%Sandwiches%\"))|(business8.categories.like(\"%Vegetarian%\"))|(business8.categories.like(\"%Vegan%\"))|(business8.categories.like(\"%Tacos%\"))|(business8.categories.like(\"%American (Traditional)%\"))|(business8.categories.like(\"%Dim Sum%\"))|(business8.categories.like(\"%Breweries%\"))|(business8.categories.like(\"%Wine & Spirits%\"))|(business8.categories.like(\"%Italian%\"))|(business8.categories.like(\"%Persian/Iranian%\"))|(business8.categories.like(\"%Cafes%\"))|(business8.categories.like(\"%Indian%\"))|(business8.categories.like(\"%Delis%\"))|(business8.categories.like(\"%Canadian (New)%\"))|(business8.categories.like(\"%Soul Food%\"))|(business8.categories.like(\"%American (New)%\"))|(business8.categories.like(\"%Asian Fusion%\"))|(business8.categories.like(\"%Cheesesteaks%\"))|(business8.categories.like(\"%soup%\"))|(business8.categories.like(\"%Caterers%\"))|(business8.categories.like(\"%Breakfast & Brunch%\"))|(business8.categories.like(\"%Lounges%\"))|(business8.categories.like(\"%Cocktail Bars%\"))|(business8.categories.like(\"%Champagne Bars%\"))|(business8.categories.like(\"%Mediterranean%\"))|(business8.categories.like(\"%Poutineries%\")))"
   ]
  },
  {
   "cell_type": "code",
   "execution_count": 13,
   "metadata": {
    "vscode": {
     "languageId": "json"
    }
   },
   "outputs": [
    {
     "data": {
      "application/vnd.jupyter.widget-view+json": {
       "model_id": "",
       "version_major": 2,
       "version_minor": 0
      },
      "text/plain": [
       "FloatProgress(value=0.0, bar_style='info', description='Progress:', layout=Layout(height='25px', width='50%'),…"
      ]
     },
     "metadata": {},
     "output_type": "display_data"
    },
    {
     "name": "stdout",
     "output_type": "stream",
     "text": [
      "DataFrame[]"
     ]
    }
   ],
   "source": [
    "business_restaurant.createOrReplaceTempView(\"business_restaurant\")"
   ]
  },
  {
   "cell_type": "code",
   "execution_count": null,
   "id": "e8e2ae75",
   "metadata": {
    "vscode": {
     "languageId": "json"
    }
   },
   "outputs": [],
   "source": [
    "query_business = spark.sql(\"select business_id,name,address,city,state,postal_code,latitude,longitude,stars,review_count,is_open, if(categories like '%Italian%','Italian',if(categories like '%Mexican%','Mexican', if(categories like '%Japanese%','Japanese',if(categories like '%Indian%','Indian',if(categories like '%Chinese%','Chinese',if(categories like '%American%','American',if(categories like '%Vegetarian%','Vegetarian',if(categories like '%Korean%','Korean',if(categories like '%Vietnamese%','Vietnamese',if(categories like '%Barbecue%','Barbecue',if(categories like '%Thai%','Thai',if(categories like '%Seafood%','Seafood',if(categories like '%Turkish%','Turkish',if(categories like '%Korean%','Korean',if(categories like '%Indonesian%','Indonesian',if(categories like '%Swedish%','Swedish',if(categories like '%Asian%','Asian',if(categories like '%Irish%','Irish',if(categories like '%Russian%','Russian',if(categories like '%Spanish%','Spanish',if(categories like '%French%','French',if(categories like '%Fast Food%','Fast Food','Other')))))))))))))))))))))) as Type_of_Cuisines_in_Restaurants from business_restaurant\")"
   ]
  },
  {
   "cell_type": "code",
   "execution_count": null,
   "id": "ccf510cd",
   "metadata": {
    "vscode": {
     "languageId": "json"
    }
   },
   "outputs": [],
   "source": [
    "query_business.write.saveAsTable(\"yelp.business_restaurant_table\")"
   ]
  },
  {
   "cell_type": "markdown",
   "metadata": {},
   "source": [
    "\n",
    "### Reading Review\n",
    "\n"
   ]
  },
  {
   "cell_type": "code",
   "execution_count": 18,
   "metadata": {
    "vscode": {
     "languageId": "json"
    }
   },
   "outputs": [
    {
     "data": {
      "application/vnd.jupyter.widget-view+json": {
       "model_id": "",
       "version_major": 2,
       "version_minor": 0
      },
      "text/plain": [
       "FloatProgress(value=0.0, bar_style='info', description='Progress:', layout=Layout(height='25px', width='50%'),…"
      ]
     },
     "metadata": {},
     "output_type": "display_data"
    }
   ],
   "source": [
    "review_schema = StructType([\n",
    "    StructField(\"review_id\", StringType()),\n",
    "    StructField(\"user_id\", StringType()),\n",
    "    StructField(\"business_id\", StringType()),\n",
    "    StructField(\"stars\", FloatType()),\n",
    "    StructField(\"date\", StringType()),\n",
    "    StructField(\"text\", StringType()),\n",
    "    StructField(\"useful\", IntegerType()),\n",
    "    StructField(\"funny\", IntegerType()),\n",
    "    StructField(\"cool\", IntegerType())\n",
    "    ])\n"
   ]
  },
  {
   "cell_type": "code",
   "execution_count": 19,
   "metadata": {
    "vscode": {
     "languageId": "json"
    }
   },
   "outputs": [
    {
     "data": {
      "application/vnd.jupyter.widget-view+json": {
       "model_id": "",
       "version_major": 2,
       "version_minor": 0
      },
      "text/plain": [
       "FloatProgress(value=0.0, bar_style='info', description='Progress:', layout=Layout(height='25px', width='50%'),…"
      ]
     },
     "metadata": {},
     "output_type": "display_data"
    }
   ],
   "source": [
    "review= spark.read.format(\"csv\") \\\n",
    "                         .option(\"header\", \"true\") \\\n",
    "                         .schema(review_schema) \\\n",
    "                         .option(\"quote\", \"\\\"\")\\\n",
    "                         .option(\"escape\", \"\\\"\")\\\n",
    "                         .option(\"dateFormat\", \"yyyy-MM-dd HH:mm:ss\")\\\n",
    "                         .option(\"multiLine\",'true')\\\n",
    "                         .load(\"s3://project21-vita/kaggle/review.csv\")"
   ]
  },
  {
   "cell_type": "markdown",
   "metadata": {},
   "source": [
    "### saving file"
   ]
  },
  {
   "cell_type": "code",
   "execution_count": 20,
   "metadata": {
    "vscode": {
     "languageId": "json"
    }
   },
   "outputs": [
    {
     "data": {
      "application/vnd.jupyter.widget-view+json": {
       "model_id": "",
       "version_major": 2,
       "version_minor": 0
      },
      "text/plain": [
       "FloatProgress(value=0.0, bar_style='info', description='Progress:', layout=Layout(height='25px', width='50%'),…"
      ]
     },
     "metadata": {},
     "output_type": "display_data"
    }
   ],
   "source": [
    "review.createOrReplaceTempView(\"review\")"
   ]
  },
  {
   "cell_type": "code",
   "execution_count": 21,
   "metadata": {
    "vscode": {
     "languageId": "json"
    }
   },
   "outputs": [
    {
     "data": {
      "application/vnd.jupyter.widget-view+json": {
       "model_id": "",
       "version_major": 2,
       "version_minor": 0
      },
      "text/plain": [
       "FloatProgress(value=0.0, bar_style='info', description='Progress:', layout=Layout(height='25px', width='50%'),…"
      ]
     },
     "metadata": {},
     "output_type": "display_data"
    }
   ],
   "source": [
    "review_restaurant = spark.sql(\"select b.review_id,b.user_id,a.name,b.business_id,b.stars,b.date,b.text,b.useful,b.funny,b.cool from business_restaurant as a inner join review as b on a.business_id==b.business_id\")"
   ]
  },
  {
   "cell_type": "code",
   "execution_count": 22,
   "metadata": {
    "vscode": {
     "languageId": "json"
    }
   },
   "outputs": [
    {
     "data": {
      "application/vnd.jupyter.widget-view+json": {
       "model_id": "",
       "version_major": 2,
       "version_minor": 0
      },
      "text/plain": [
       "FloatProgress(value=0.0, bar_style='info', description='Progress:', layout=Layout(height='25px', width='50%'),…"
      ]
     },
     "metadata": {},
     "output_type": "display_data"
    }
   ],
   "source": [
    "review_restaurant.createOrReplaceTempView(\"review_restaurant\")"
   ]
  },
  {
   "cell_type": "markdown",
   "metadata": {},
   "source": [
    "### Reading Checkin"
   ]
  },
  {
   "cell_type": "code",
   "execution_count": 23,
   "metadata": {
    "vscode": {
     "languageId": "json"
    }
   },
   "outputs": [
    {
     "data": {
      "application/vnd.jupyter.widget-view+json": {
       "model_id": "",
       "version_major": 2,
       "version_minor": 0
      },
      "text/plain": [
       "FloatProgress(value=0.0, bar_style='info', description='Progress:', layout=Layout(height='25px', width='50%'),…"
      ]
     },
     "metadata": {},
     "output_type": "display_data"
    }
   ],
   "source": [
    "checkin = spark.read.format(\"csv\") \\\n",
    "                         .option(\"header\", \"true\") \\\n",
    "                         .option(\"inferSchema\",\"true\")\\\n",
    "                         .load(\"s3://project21-vita/kaggle/checkin.csv\")"
   ]
  },
  {
   "cell_type": "markdown",
   "metadata": {},
   "source": [
    "### saving file"
   ]
  },
  {
   "cell_type": "code",
   "execution_count": 24,
   "metadata": {
    "vscode": {
     "languageId": "json"
    }
   },
   "outputs": [
    {
     "data": {
      "application/vnd.jupyter.widget-view+json": {
       "model_id": "",
       "version_major": 2,
       "version_minor": 0
      },
      "text/plain": [
       "FloatProgress(value=0.0, bar_style='info', description='Progress:', layout=Layout(height='25px', width='50%'),…"
      ]
     },
     "metadata": {},
     "output_type": "display_data"
    }
   ],
   "source": [
    "checkin.createOrReplaceTempView(\"checkin\")"
   ]
  },
  {
   "cell_type": "code",
   "execution_count": 25,
   "metadata": {
    "vscode": {
     "languageId": "json"
    }
   },
   "outputs": [
    {
     "data": {
      "application/vnd.jupyter.widget-view+json": {
       "model_id": "",
       "version_major": 2,
       "version_minor": 0
      },
      "text/plain": [
       "FloatProgress(value=0.0, bar_style='info', description='Progress:', layout=Layout(height='25px', width='50%'),…"
      ]
     },
     "metadata": {},
     "output_type": "display_data"
    }
   ],
   "source": [
    "checkin_restaurant = spark.sql(\"select a.name,b.business_id, b.weekday, b.hour, b.checkins from business_restaurant as a inner join checkin as b on a.business_id=b.business_id\")"
   ]
  },
  {
   "cell_type": "code",
   "execution_count": 157,
   "metadata": {
    "vscode": {
     "languageId": "json"
    }
   },
   "outputs": [
    {
     "data": {
      "application/vnd.jupyter.widget-view+json": {
       "model_id": "",
       "version_major": 2,
       "version_minor": 0
      },
      "text/plain": [
       "FloatProgress(value=0.0, bar_style='info', description='Progress:', layout=Layout(height='25px', width='50%'),…"
      ]
     },
     "metadata": {},
     "output_type": "display_data"
    },
    {
     "name": "stdout",
     "output_type": "stream",
     "text": [
      "DataFrame[]"
     ]
    }
   ],
   "source": [
    "checkin_restaurant.write.saveAsTable(\"yelp.checkin_restaurant_table\")"
   ]
  },
  {
   "cell_type": "markdown",
   "metadata": {},
   "source": [
    "### Reading Tip"
   ]
  },
  {
   "cell_type": "code",
   "execution_count": 27,
   "metadata": {
    "vscode": {
     "languageId": "json"
    }
   },
   "outputs": [
    {
     "data": {
      "application/vnd.jupyter.widget-view+json": {
       "model_id": "",
       "version_major": 2,
       "version_minor": 0
      },
      "text/plain": [
       "FloatProgress(value=0.0, bar_style='info', description='Progress:', layout=Layout(height='25px', width='50%'),…"
      ]
     },
     "metadata": {},
     "output_type": "display_data"
    }
   ],
   "source": [
    "tip_schema = StructType([\n",
    "    StructField(\"text\", StringType()),\n",
    "    StructField(\"date\", StringType()),\n",
    "    StructField(\"likes\", IntegerType()),\n",
    "    StructField(\"business_id\", StringType()),\n",
    "    StructField(\"user_id\", StringType()),\n",
    "])"
   ]
  },
  {
   "cell_type": "code",
   "execution_count": 28,
   "metadata": {
    "vscode": {
     "languageId": "json"
    }
   },
   "outputs": [
    {
     "data": {
      "application/vnd.jupyter.widget-view+json": {
       "model_id": "",
       "version_major": 2,
       "version_minor": 0
      },
      "text/plain": [
       "FloatProgress(value=0.0, bar_style='info', description='Progress:', layout=Layout(height='25px', width='50%'),…"
      ]
     },
     "metadata": {},
     "output_type": "display_data"
    }
   ],
   "source": [
    "tip = spark.read.format(\"csv\") \\\n",
    "                         .option(\"header\", \"true\") \\\n",
    "                         .schema(tip_schema)\\\n",
    "                         .option(\"quote\", \"\\\"\")\\\n",
    "                         .option(\"escape\", \"\\\"\")\\\n",
    "                         .option(\"multiLine\",'true')\\\n",
    "                         .load(\"s3://project21-vita/kaggle/tip.csv\")"
   ]
  },
  {
   "cell_type": "code",
   "execution_count": 29,
   "metadata": {
    "vscode": {
     "languageId": "json"
    }
   },
   "outputs": [
    {
     "data": {
      "application/vnd.jupyter.widget-view+json": {
       "model_id": "",
       "version_major": 2,
       "version_minor": 0
      },
      "text/plain": [
       "FloatProgress(value=0.0, bar_style='info', description='Progress:', layout=Layout(height='25px', width='50%'),…"
      ]
     },
     "metadata": {},
     "output_type": "display_data"
    }
   ],
   "source": [
    "tip1 = tip.na.fill(value='',subset=[\"text\"])"
   ]
  },
  {
   "cell_type": "markdown",
   "metadata": {},
   "source": [
    "\n",
    "### saving file"
   ]
  },
  {
   "cell_type": "code",
   "execution_count": 30,
   "metadata": {
    "vscode": {
     "languageId": "json"
    }
   },
   "outputs": [
    {
     "data": {
      "application/vnd.jupyter.widget-view+json": {
       "model_id": "",
       "version_major": 2,
       "version_minor": 0
      },
      "text/plain": [
       "FloatProgress(value=0.0, bar_style='info', description='Progress:', layout=Layout(height='25px', width='50%'),…"
      ]
     },
     "metadata": {},
     "output_type": "display_data"
    }
   ],
   "source": [
    "tip1.createOrReplaceTempView(\"tip\")"
   ]
  },
  {
   "cell_type": "code",
   "execution_count": 31,
   "metadata": {
    "vscode": {
     "languageId": "json"
    }
   },
   "outputs": [
    {
     "data": {
      "application/vnd.jupyter.widget-view+json": {
       "model_id": "",
       "version_major": 2,
       "version_minor": 0
      },
      "text/plain": [
       "FloatProgress(value=0.0, bar_style='info', description='Progress:', layout=Layout(height='25px', width='50%'),…"
      ]
     },
     "metadata": {},
     "output_type": "display_data"
    }
   ],
   "source": [
    "tip_restaurant =  spark.sql(\"select a.text,a.date,a.likes,a.business_id,a.user_id from tip as a inner join business_restaurant as b on a.business_id==b.business_id\")"
   ]
  },
  {
   "cell_type": "markdown",
   "metadata": {},
   "source": [
    "### Reading hours file\n"
   ]
  },
  {
   "cell_type": "code",
   "execution_count": 33,
   "metadata": {
    "vscode": {
     "languageId": "json"
    }
   },
   "outputs": [
    {
     "data": {
      "application/vnd.jupyter.widget-view+json": {
       "model_id": "",
       "version_major": 2,
       "version_minor": 0
      },
      "text/plain": [
       "FloatProgress(value=0.0, bar_style='info', description='Progress:', layout=Layout(height='25px', width='50%'),…"
      ]
     },
     "metadata": {},
     "output_type": "display_data"
    }
   ],
   "source": [
    "hours = spark.read.format(\"csv\") \\\n",
    "                         .option(\"header\", \"true\") \\\n",
    "                         .option(\"inferSchema\",\"true\")\\\n",
    "                         .load(\"s3://project21-vita/kaggle/hours.csv\")"
   ]
  },
  {
   "cell_type": "code",
   "execution_count": 34,
   "metadata": {
    "vscode": {
     "languageId": "json"
    }
   },
   "outputs": [
    {
     "data": {
      "application/vnd.jupyter.widget-view+json": {
       "model_id": "",
       "version_major": 2,
       "version_minor": 0
      },
      "text/plain": [
       "FloatProgress(value=0.0, bar_style='info', description='Progress:', layout=Layout(height='25px', width='50%'),…"
      ]
     },
     "metadata": {},
     "output_type": "display_data"
    }
   ],
   "source": [
    "hours1 = hours.withColumn('monday', regexp_replace('monday', 'None', ''))\\\n",
    ".withColumn('tuesday', regexp_replace('tuesday', 'None', ''))\\\n",
    ".withColumn('wednesday', regexp_replace('wednesday', 'None', ''))\\\n",
    ".withColumn('thursday', regexp_replace('thursday', 'None', ''))\\\n",
    ".withColumn('friday', regexp_replace('friday', 'None', ''))\\\n",
    ".withColumn('saturday', regexp_replace('saturday', 'None', ''))\\\n",
    ".withColumn('sunday', regexp_replace('sunday', 'None', ''))"
   ]
  },
  {
   "cell_type": "code",
   "execution_count": 35,
   "metadata": {
    "vscode": {
     "languageId": "json"
    }
   },
   "outputs": [
    {
     "data": {
      "application/vnd.jupyter.widget-view+json": {
       "model_id": "",
       "version_major": 2,
       "version_minor": 0
      },
      "text/plain": [
       "FloatProgress(value=0.0, bar_style='info', description='Progress:', layout=Layout(height='25px', width='50%'),…"
      ]
     },
     "metadata": {},
     "output_type": "display_data"
    }
   ],
   "source": [
    "hours2 = hours1.withColumn('Mon_opening', split(hours1['monday'], '-').getItem(0))\\\n",
    "                                 .withColumn('Mon_closing', split(hours1['monday'], '-').getItem(1))\\\n",
    "                                 .withColumn('Tue_opening', split(hours1['tuesday'], '-').getItem(0))\\\n",
    "                                 .withColumn('Tue_closing', split(hours1['tuesday'], '-').getItem(1))\\\n",
    "                                 .withColumn('Wed_opening', split(hours1['wednesday'], '-').getItem(0))\\\n",
    "                                 .withColumn('Wed_closing', split(hours1['wednesday'], '-').getItem(1))\\\n",
    "                                 .withColumn('Thu_opening', split(hours1['thursday'], '-').getItem(0))\\\n",
    "                                 .withColumn('Thu_closing', split(hours1['thursday'], '-').getItem(1))\\\n",
    "                                 .withColumn('fri_opening', split(hours1['friday'], '-').getItem(0))\\\n",
    "                                 .withColumn('fri_closing', split(hours1['friday'], '-').getItem(1))\\\n",
    "                                 .withColumn('Sat_opening', split(hours1['saturday'], '-').getItem(0))\\\n",
    "                                 .withColumn('Sat_closing', split(hours1['saturday'], '-').getItem(1))\\\n",
    "                                 .withColumn('Sun_opening', split(hours1['sunday'], '-').getItem(0))\\\n",
    "                                 .withColumn('Sun_closing', split(hours1['sunday'], '-').getItem(1))\\\n"
   ]
  },
  {
   "cell_type": "code",
   "execution_count": 36,
   "metadata": {
    "vscode": {
     "languageId": "json"
    }
   },
   "outputs": [
    {
     "data": {
      "application/vnd.jupyter.widget-view+json": {
       "model_id": "",
       "version_major": 2,
       "version_minor": 0
      },
      "text/plain": [
       "FloatProgress(value=0.0, bar_style='info', description='Progress:', layout=Layout(height='25px', width='50%'),…"
      ]
     },
     "metadata": {},
     "output_type": "display_data"
    }
   ],
   "source": [
    "hours3 = hours2.drop('monday','tuesday','wednesday','thursday','friday','saturday','sunday')\n"
   ]
  },
  {
   "cell_type": "markdown",
   "metadata": {},
   "source": [
    "### saving file"
   ]
  },
  {
   "cell_type": "code",
   "execution_count": 37,
   "metadata": {
    "vscode": {
     "languageId": "json"
    }
   },
   "outputs": [
    {
     "data": {
      "application/vnd.jupyter.widget-view+json": {
       "model_id": "",
       "version_major": 2,
       "version_minor": 0
      },
      "text/plain": [
       "FloatProgress(value=0.0, bar_style='info', description='Progress:', layout=Layout(height='25px', width='50%'),…"
      ]
     },
     "metadata": {},
     "output_type": "display_data"
    }
   ],
   "source": [
    "hours1.createOrReplaceTempView(\"hours1\")"
   ]
  },
  {
   "cell_type": "code",
   "execution_count": null,
   "id": "28faf193",
   "metadata": {
    "vscode": {
     "languageId": "json"
    }
   },
   "outputs": [],
   "source": [
    "hours_restaurant1 = spark.sql(\"select b.business_id,b.monday,b.tuesday,b.wednesday,b.thursday,b.friday,b.saturday,b.sunday from business_restaurant as a inner join hours1 as b on a.business_id=b.business_id\")"
   ]
  },
  {
   "cell_type": "code",
   "execution_count": null,
   "id": "878d5159",
   "metadata": {
    "vscode": {
     "languageId": "json"
    }
   },
   "outputs": [],
   "source": [
    "hours_restaurant1.write.saveAsTable(\"yelp.hours_restaurant1_table\")"
   ]
  },
  {
   "cell_type": "code",
   "execution_count": 38,
   "metadata": {
    "vscode": {
     "languageId": "json"
    }
   },
   "outputs": [
    {
     "data": {
      "application/vnd.jupyter.widget-view+json": {
       "model_id": "",
       "version_major": 2,
       "version_minor": 0
      },
      "text/plain": [
       "FloatProgress(value=0.0, bar_style='info', description='Progress:', layout=Layout(height='25px', width='50%'),…"
      ]
     },
     "metadata": {},
     "output_type": "display_data"
    }
   ],
   "source": [
    "hours3.createOrReplaceTempView(\"hours\")"
   ]
  },
  {
   "cell_type": "code",
   "execution_count": 39,
   "metadata": {
    "vscode": {
     "languageId": "json"
    }
   },
   "outputs": [
    {
     "data": {
      "application/vnd.jupyter.widget-view+json": {
       "model_id": "",
       "version_major": 2,
       "version_minor": 0
      },
      "text/plain": [
       "FloatProgress(value=0.0, bar_style='info', description='Progress:', layout=Layout(height='25px', width='50%'),…"
      ]
     },
     "metadata": {},
     "output_type": "display_data"
    }
   ],
   "source": [
    "hours_restaurant = spark.sql(\"select b.business_id,b.Mon_opening,b.Mon_closing,b.Tue_opening,b.Tue_closing,b.Wed_opening,b.Wed_closing,b.Thu_opening,b.Thu_closing,b.fri_opening,b.fri_closing,b.Sat_opening,b.Sat_closing,b.Sun_opening,b.Sun_closing from business_restaurant as a inner join hours as b on a.business_id=b.business_id\")"
   ]
  },
  {
   "cell_type": "markdown",
   "metadata": {},
   "source": [
    "### Reading user"
   ]
  },
  {
   "cell_type": "code",
   "execution_count": 41,
   "metadata": {
    "vscode": {
     "languageId": "json"
    }
   },
   "outputs": [
    {
     "data": {
      "application/vnd.jupyter.widget-view+json": {
       "model_id": "",
       "version_major": 2,
       "version_minor": 0
      },
      "text/plain": [
       "FloatProgress(value=0.0, bar_style='info', description='Progress:', layout=Layout(height='25px', width='50%'),…"
      ]
     },
     "metadata": {},
     "output_type": "display_data"
    }
   ],
   "source": [
    "user = spark.read.format(\"csv\") \\\n",
    "                         .option(\"header\", \"true\") \\\n",
    "                         .option(\"inferSchema\", \"true\") \\\n",
    "                         .load(\"s3://project21-vita/kaggle/user.csv\")"
   ]
  },
  {
   "cell_type": "code",
   "execution_count": 42,
   "metadata": {
    "vscode": {
     "languageId": "json"
    }
   },
   "outputs": [
    {
     "data": {
      "application/vnd.jupyter.widget-view+json": {
       "model_id": "",
       "version_major": 2,
       "version_minor": 0
      },
      "text/plain": [
       "FloatProgress(value=0.0, bar_style='info', description='Progress:', layout=Layout(height='25px', width='50%'),…"
      ]
     },
     "metadata": {},
     "output_type": "display_data"
    }
   ],
   "source": [
    "user1 = user.withColumn(\"Yelping_since\", col(\"Yelping_since\").cast(\"String\"))"
   ]
  },
  {
   "cell_type": "code",
   "execution_count": 43,
   "metadata": {
    "vscode": {
     "languageId": "json"
    }
   },
   "outputs": [
    {
     "data": {
      "application/vnd.jupyter.widget-view+json": {
       "model_id": "",
       "version_major": 2,
       "version_minor": 0
      },
      "text/plain": [
       "FloatProgress(value=0.0, bar_style='info', description='Progress:', layout=Layout(height='25px', width='50%'),…"
      ]
     },
     "metadata": {},
     "output_type": "display_data"
    }
   ],
   "source": [
    "user2 = user1.na.fill(value='Unknown',subset=[\"name\"])"
   ]
  },
  {
   "cell_type": "code",
   "execution_count": 44,
   "metadata": {
    "vscode": {
     "languageId": "json"
    }
   },
   "outputs": [
    {
     "data": {
      "application/vnd.jupyter.widget-view+json": {
       "model_id": "",
       "version_major": 2,
       "version_minor": 0
      },
      "text/plain": [
       "FloatProgress(value=0.0, bar_style='info', description='Progress:', layout=Layout(height='25px', width='50%'),…"
      ]
     },
     "metadata": {},
     "output_type": "display_data"
    }
   ],
   "source": [
    "user3 = user2.withColumn('name', regexp_replace('name', 'None', 'Unknown'))\\\n",
    "        .withColumn('elite', regexp_replace('elite', 'None', ''))        "
   ]
  },
  {
   "cell_type": "code",
   "execution_count": 45,
   "metadata": {
    "vscode": {
     "languageId": "json"
    }
   },
   "outputs": [
    {
     "data": {
      "application/vnd.jupyter.widget-view+json": {
       "model_id": "",
       "version_major": 2,
       "version_minor": 0
      },
      "text/plain": [
       "FloatProgress(value=0.0, bar_style='info', description='Progress:', layout=Layout(height='25px', width='50%'),…"
      ]
     },
     "metadata": {},
     "output_type": "display_data"
    }
   ],
   "source": [
    "user4 = user3.drop('friends','compliment_hot',\n",
    " 'compliment_more',\n",
    " 'compliment_profile',\n",
    " 'compliment_cute',\n",
    " 'compliment_list',\n",
    " 'compliment_note',\n",
    " 'compliment_plain',\n",
    " 'compliment_cool',\n",
    " 'compliment_funny',\n",
    " 'compliment_writer',\n",
    " 'compliment_photos')"
   ]
  },
  {
   "cell_type": "code",
   "execution_count": 46,
   "metadata": {
    "vscode": {
     "languageId": "json"
    }
   },
   "outputs": [
    {
     "data": {
      "application/vnd.jupyter.widget-view+json": {
       "model_id": "",
       "version_major": 2,
       "version_minor": 0
      },
      "text/plain": [
       "FloatProgress(value=0.0, bar_style='info', description='Progress:', layout=Layout(height='25px', width='50%'),…"
      ]
     },
     "metadata": {},
     "output_type": "display_data"
    }
   ],
   "source": [
    "user5 = user4.withColumn(\"Yelping_date\", split(col(\"Yelping_since\"), \" \").getItem(0)).withColumn(\"col2\", split(col(\"Yelping_since\"), \" \").getItem(1))"
   ]
  },
  {
   "cell_type": "code",
   "execution_count": 47,
   "metadata": {
    "vscode": {
     "languageId": "json"
    }
   },
   "outputs": [
    {
     "data": {
      "application/vnd.jupyter.widget-view+json": {
       "model_id": "",
       "version_major": 2,
       "version_minor": 0
      },
      "text/plain": [
       "FloatProgress(value=0.0, bar_style='info', description='Progress:', layout=Layout(height='25px', width='50%'),…"
      ]
     },
     "metadata": {},
     "output_type": "display_data"
    }
   ],
   "source": [
    "user6 = user5.drop('Yelping_since','col2')"
   ]
  },
  {
   "cell_type": "code",
   "execution_count": 48,
   "metadata": {
    "vscode": {
     "languageId": "json"
    }
   },
   "outputs": [
    {
     "data": {
      "application/vnd.jupyter.widget-view+json": {
       "model_id": "",
       "version_major": 2,
       "version_minor": 0
      },
      "text/plain": [
       "FloatProgress(value=0.0, bar_style='info', description='Progress:', layout=Layout(height='25px', width='50%'),…"
      ]
     },
     "metadata": {},
     "output_type": "display_data"
    }
   ],
   "source": [
    "user7 = user6.withColumnRenamed('Yelping_date', 'Yelping_since') # renaming  column yelping date as yelping_since"
   ]
  },
  {
   "cell_type": "code",
   "execution_count": 49,
   "metadata": {
    "vscode": {
     "languageId": "json"
    }
   },
   "outputs": [
    {
     "data": {
      "application/vnd.jupyter.widget-view+json": {
       "model_id": "",
       "version_major": 2,
       "version_minor": 0
      },
      "text/plain": [
       "FloatProgress(value=0.0, bar_style='info', description='Progress:', layout=Layout(height='25px', width='50%'),…"
      ]
     },
     "metadata": {},
     "output_type": "display_data"
    }
   ],
   "source": [
    "user8 = user7.select('user_id','name','review_count','Yelping_since','useful','funny','cool','elite','average_stars','fans')\n"
   ]
  },
  {
   "cell_type": "markdown",
   "metadata": {},
   "source": [
    "### saving file"
   ]
  },
  {
   "cell_type": "code",
   "execution_count": 50,
   "metadata": {
    "vscode": {
     "languageId": "json"
    }
   },
   "outputs": [
    {
     "data": {
      "application/vnd.jupyter.widget-view+json": {
       "model_id": "",
       "version_major": 2,
       "version_minor": 0
      },
      "text/plain": [
       "FloatProgress(value=0.0, bar_style='info', description='Progress:', layout=Layout(height='25px', width='50%'),…"
      ]
     },
     "metadata": {},
     "output_type": "display_data"
    }
   ],
   "source": [
    "user8.createOrReplaceTempView(\"user\")"
   ]
  },
  {
   "cell_type": "code",
   "execution_count": 51,
   "metadata": {
    "vscode": {
     "languageId": "json"
    }
   },
   "outputs": [
    {
     "data": {
      "application/vnd.jupyter.widget-view+json": {
       "model_id": "",
       "version_major": 2,
       "version_minor": 0
      },
      "text/plain": [
       "FloatProgress(value=0.0, bar_style='info', description='Progress:', layout=Layout(height='25px', width='50%'),…"
      ]
     },
     "metadata": {},
     "output_type": "display_data"
    }
   ],
   "source": [
    "user_review_restaurant = spark.sql(\"select a.user_id,a.name,a.review_count,a.Yelping_since,a.fans,a.useful,a.funny,a.cool,a.elite,a.average_stars from user as a inner join review_restaurant as b on a.user_id==b.user_id \")"
   ]
  },
  {
   "cell_type": "code",
   "execution_count": 54,
   "metadata": {
    "vscode": {
     "languageId": "json"
    }
   },
   "outputs": [
    {
     "data": {
      "application/vnd.jupyter.widget-view+json": {
       "model_id": "",
       "version_major": 2,
       "version_minor": 0
      },
      "text/plain": [
       "FloatProgress(value=0.0, bar_style='info', description='Progress:', layout=Layout(height='25px', width='50%'),…"
      ]
     },
     "metadata": {},
     "output_type": "display_data"
    }
   ],
   "source": [
    "user_review_restaurant.createOrReplaceTempView(\"user_review_restaurant\")"
   ]
  },
  {
   "cell_type": "markdown",
   "metadata": {},
   "source": [
    "### Reading attribute\n"
   ]
  },
  {
   "cell_type": "code",
   "execution_count": 55,
   "metadata": {
    "vscode": {
     "languageId": "json"
    }
   },
   "outputs": [
    {
     "data": {
      "application/vnd.jupyter.widget-view+json": {
       "model_id": "",
       "version_major": 2,
       "version_minor": 0
      },
      "text/plain": [
       "FloatProgress(value=0.0, bar_style='info', description='Progress:', layout=Layout(height='25px', width='50%'),…"
      ]
     },
     "metadata": {},
     "output_type": "display_data"
    }
   ],
   "source": [
    "attribute = spark.read.format(\"csv\") \\\n",
    "                         .option(\"header\", \"true\") \\\n",
    "                         .option(\"quote\", \"\\\"\")\\\n",
    "                         .option(\"escape\", \"\\\"\")\\\n",
    "                         .option(\"multiLine\",'true')\\\n",
    "                         .load(\"s3://project21-vita/kaggle/attribute.csv\")"
   ]
  },
  {
   "cell_type": "code",
   "execution_count": 56,
   "metadata": {
    "vscode": {
     "languageId": "json"
    }
   },
   "outputs": [
    {
     "data": {
      "application/vnd.jupyter.widget-view+json": {
       "model_id": "",
       "version_major": 2,
       "version_minor": 0
      },
      "text/plain": [
       "FloatProgress(value=0.0, bar_style='info', description='Progress:', layout=Layout(height='25px', width='50%'),…"
      ]
     },
     "metadata": {},
     "output_type": "display_data"
    }
   ],
   "source": [
    "attribute1 = attribute.drop('DietaryRestrictions_kosher', 'DietaryRestrictions_halal','DietaryRestrictions_soy-free',\n",
    "    'DietaryRestrictions_vegetarian','RestaurantsCounterService','DietaryRestrictions_gluten-free',\n",
    "    'DietaryRestrictions_dairy-free','DietaryRestrictions_vegan', 'BYOBCorkage', 'BYOB','CoatCheck',\n",
    "    'Ambience_hipster','Ambience_divey','Ambience_intimate','Ambience_trendy','Ambience_upscale','HairSpecializesIn_asian','AcceptsInsurance','ByAppointmentOnly',\n",
    "    'BusinessAcceptsCreditCards','BusinessParking_garage','BusinessParking_street','BusinessParking_validated','BusinessParking_lot','BusinessParking_valet',\n",
    "    'HairSpecializesIn_coloring','HairSpecializesIn_africanamerican','HairSpecializesIn_curly','HairSpecializesIn_perms','HairSpecializesIn_kids','HairSpecializesIn_extensions',\n",
    "    'HairSpecializesIn_straightperms','RestaurantsPriceRange2','Music_dj','Music_karaoke','Music_video','Music_jukebox','Ambience_touristy','AgesAllowed','BestNights_monday','BestNights_tuesday','BestNights_wednesday','BestNights_thursday','GoodForMeal_brunch')"
   ]
  },
  {
   "cell_type": "code",
   "execution_count": 57,
   "metadata": {
    "vscode": {
     "languageId": "json"
    }
   },
   "outputs": [
    {
     "data": {
      "application/vnd.jupyter.widget-view+json": {
       "model_id": "",
       "version_major": 2,
       "version_minor": 0
      },
      "text/plain": [
       "FloatProgress(value=0.0, bar_style='info', description='Progress:', layout=Layout(height='25px', width='50%'),…"
      ]
     },
     "metadata": {},
     "output_type": "display_data"
    }
   ],
   "source": [
    "attribute2 = attribute1.withColumn('GoodForKids', regexp_replace('GoodForKids', 'Na', 'False'))\\\n",
    "                         .withColumn('WheelchairAccessible', regexp_replace('WheelchairAccessible', 'Na', 'False'))\\\n",
    "                         .withColumn('BikeParking', regexp_replace('BikeParking', 'Na', 'False'))\\\n",
    "                         .withColumn('Alcohol', regexp_replace('Alcohol', 'Na', 'False'))\\\n",
    "                         .withColumn('HasTV', regexp_replace('HasTV', 'Na', 'False'))\\\n",
    "                         .withColumn('NoiseLevel', regexp_replace('NoiseLevel', 'Na', 'False'))\\\n",
    "                         .withColumn('RestaurantsAttire', regexp_replace('RestaurantsAttire', 'Na', 'False'))\\\n",
    "                         .withColumn('Music_background_music', regexp_replace('Music_background_music', 'Na', 'False'))\\\n",
    "                         .withColumn('Music_no_music', regexp_replace('Music_no_music', 'Na', 'False'))\\\n",
    "                         .withColumn('Music_live', regexp_replace('Music_live', 'Na', 'False'))\\\n",
    "                         .withColumn('Ambience_romantic', regexp_replace('Ambience_romantic', 'Na', 'False'))\\\n",
    "                         .withColumn('Ambience_classy', regexp_replace('Ambience_classy', 'Na', 'False'))\\\n",
    "                         .withColumn('Ambience_casual', regexp_replace('Ambience_casual', 'Na', 'False'))\\\n",
    "                         .withColumn('RestaurantsGoodForGroups', regexp_replace('RestaurantsGoodForGroups', 'Na', 'False'))\\\n",
    "                         .withColumn('Caters', regexp_replace('Caters', 'Na', 'False'))\\\n",
    "                         .withColumn('WiFi', regexp_replace('WiFi', 'Na', 'False'))\\\n",
    "                         .withColumn('RestaurantsReservations', regexp_replace('RestaurantsReservations', 'Na', 'False'))\\\n",
    "                         .withColumn('RestaurantsTakeOut', regexp_replace('RestaurantsTakeOut', 'Na', 'False'))\\\n",
    "                         .withColumn('HappyHour', regexp_replace('HappyHour', 'Na', 'False'))\\\n",
    "                         .withColumn('GoodForDancing', regexp_replace('GoodForDancing', 'Na', 'False'))\\\n",
    "                         .withColumn('RestaurantsTableService', regexp_replace('RestaurantsTableService', 'Na', 'False'))\\\n",
    "                         .withColumn('OutdoorSeating', regexp_replace('OutdoorSeating', 'Na', 'False'))\\\n",
    "                         .withColumn('RestaurantsDelivery', regexp_replace('RestaurantsDelivery', 'Na', 'False'))\\\n",
    "                         .withColumn('BestNights_friday', regexp_replace('BestNights_friday', 'Na', 'False'))\\\n",
    "                         .withColumn('BestNights_sunday', regexp_replace('BestNights_sunday', 'Na', 'False'))\\\n",
    "                         .withColumn('BestNights_saturday', regexp_replace('BestNights_saturday', 'Na', 'False'))\\\n",
    "                         .withColumn('GoodForMeal_dessert', regexp_replace('GoodForMeal_dessert', 'Na', 'False'))\\\n",
    "                         .withColumn('GoodForMeal_latenight', regexp_replace('GoodForMeal_latenight', 'Na', 'False'))\\\n",
    "                         .withColumn('GoodForMeal_lunch', regexp_replace('GoodForMeal_lunch', 'Na', 'False'))\\\n",
    "                         .withColumn('GoodForMeal_dinner', regexp_replace('GoodForMeal_dinner', 'Na', 'False'))\\\n",
    "                         .withColumn('GoodForMeal_breakfast', regexp_replace('GoodForMeal_breakfast', 'Na', 'False'))\\\n",
    "                         .withColumn('Smoking', regexp_replace('Smoking', 'Na', 'False'))\\\n",
    "                         .withColumn('DriveThru', regexp_replace('DriveThru', 'Na', 'False'))\\\n",
    "                         .withColumn('DogsAllowed', regexp_replace('DogsAllowed', 'Na', 'False'))\\\n",
    "                         .withColumn('BusinessAcceptsBitcoin', regexp_replace('BusinessAcceptsBitcoin', 'Na', 'False'))\\\n",
    "                         .withColumn('Open24Hours', regexp_replace('Open24Hours', 'Na', 'False'))\\\n",
    "                         .withColumn('Corkage', regexp_replace('Corkage', 'Na', 'False'))"
   ]
  },
  {
   "cell_type": "markdown",
   "metadata": {},
   "source": [
    "### saving file"
   ]
  },
  {
   "cell_type": "code",
   "execution_count": 58,
   "metadata": {
    "vscode": {
     "languageId": "json"
    }
   },
   "outputs": [
    {
     "data": {
      "application/vnd.jupyter.widget-view+json": {
       "model_id": "",
       "version_major": 2,
       "version_minor": 0
      },
      "text/plain": [
       "FloatProgress(value=0.0, bar_style='info', description='Progress:', layout=Layout(height='25px', width='50%'),…"
      ]
     },
     "metadata": {},
     "output_type": "display_data"
    }
   ],
   "source": [
    "attribute.createOrReplaceTempView(\"attribute\")"
   ]
  },
  {
   "cell_type": "code",
   "execution_count": 59,
   "metadata": {
    "vscode": {
     "languageId": "json"
    }
   },
   "outputs": [
    {
     "data": {
      "application/vnd.jupyter.widget-view+json": {
       "model_id": "",
       "version_major": 2,
       "version_minor": 0
      },
      "text/plain": [
       "FloatProgress(value=0.0, bar_style='info', description='Progress:', layout=Layout(height='25px', width='50%'),…"
      ]
     },
     "metadata": {},
     "output_type": "display_data"
    }
   ],
   "source": [
    "attribute_restaurant = spark.sql(\"select b.business_id,a.name,b.GoodForKids,b.WheelchairAccessible,b.BikeParking,b.Alcohol,\\\n",
    "                                 b.HasTV,b.NoiseLevel,b.RestaurantsAttire,b.Music_background_music,b.Music_no_music,\\\n",
    "                                 b.Music_live,b.Ambience_romantic,b.Ambience_classy,b.Ambience_casual,b.RestaurantsGoodForGroups,\\\n",
    "                                 b.Caters,b.WiFi,b.RestaurantsReservations,b.RestaurantsTakeOut,b.HappyHour,b.GoodForDancing,b.RestaurantsTableService,\\\n",
    "                                 b.OutdoorSeating,b.RestaurantsDelivery,b.BestNights_friday,b.BestNights_sunday,b.BestNights_saturday,b.GoodForMeal_dessert,\\\n",
    "                                 b.GoodForMeal_latenight,b.GoodForMeal_lunch,b.GoodForMeal_dinner,b.GoodForMeal_breakfast,b.Smoking,b.DriveThru,b.DogsAllowed,\\\n",
    "                                 b.BusinessAcceptsBitcoin,b.Open24Hours,b.Corkage\\\n",
    "                                 from business_restaurant as a inner join attribute as b on a.business_id==b.business_id\")"
   ]
  },
  {
   "cell_type": "markdown",
   "id": "d1b57520",
   "metadata": {},
   "source": [
    "### NLP"
   ]
  },
  {
   "cell_type": "code",
   "execution_count": null,
   "id": "e7708449",
   "metadata": {
    "vscode": {
     "languageId": "json"
    }
   },
   "outputs": [],
   "source": [
    "nlp = spark.read.format(\"csv\") \\\n",
    ".option(\"header\", \"true\") \\\n",
    ".option(\"inferSchema\", \"true\") \\\n",
    ".load(\"s3://project21-vita/nlp_on_review/nlp_review.csv\")\n"
   ]
  },
  {
   "cell_type": "code",
   "execution_count": null,
   "id": "58162e53",
   "metadata": {
    "vscode": {
     "languageId": "json"
    }
   },
   "outputs": [],
   "source": [
    "nlp.createOrReplaceTempView(\"nlp\")"
   ]
  },
  {
   "cell_type": "code",
   "execution_count": null,
   "id": "795fad93",
   "metadata": {
    "vscode": {
     "languageId": "json"
    }
   },
   "outputs": [],
   "source": [
    "nlp_review = spark.sql(\"select a.business_id,a.review_id,a.response from nlp a inner join business_restaurant b on a.business_id==b.business_id \")"
   ]
  },
  {
   "cell_type": "code",
   "execution_count": null,
   "id": "d203df56",
   "metadata": {
    "vscode": {
     "languageId": "json"
    }
   },
   "outputs": [],
   "source": [
    "nlp_review.write.saveAsTable(\"yelp.nlp_review\")"
   ]
  },
  {
   "cell_type": "markdown",
   "metadata": {},
   "source": [
    "### Starting Query"
   ]
  },
  {
   "cell_type": "markdown",
   "id": "4458f687",
   "metadata": {},
   "source": [
    "### creating review_restaurant_table"
   ]
  },
  {
   "cell_type": "code",
   "execution_count": null,
   "id": "4ddf49a8",
   "metadata": {
    "vscode": {
     "languageId": "json"
    }
   },
   "outputs": [],
   "source": [
    "query44 = spark.sql(\"select business_id,name,year(date) year,count(*) total_count from review_restaurant group by business_id,name,year(date) \")"
   ]
  },
  {
   "cell_type": "code",
   "execution_count": null,
   "id": "606349d3",
   "metadata": {
    "vscode": {
     "languageId": "json"
    }
   },
   "outputs": [],
   "source": [
    "query44.write.saveAsTable(\"yelp.review_restaurant_table\")"
   ]
  },
  {
   "cell_type": "markdown",
   "id": "bd34fff1",
   "metadata": {},
   "source": [
    "### 4.\taverage rating over the year of a particular restaurant"
   ]
  },
  {
   "cell_type": "code",
   "execution_count": 71,
   "metadata": {
    "vscode": {
     "languageId": "json"
    }
   },
   "outputs": [
    {
     "data": {
      "application/vnd.jupyter.widget-view+json": {
       "model_id": "",
       "version_major": 2,
       "version_minor": 0
      },
      "text/plain": [
       "FloatProgress(value=0.0, bar_style='info', description='Progress:', layout=Layout(height='25px', width='50%'),…"
      ]
     },
     "metadata": {},
     "output_type": "display_data"
    }
   ],
   "source": [
    "query4 = spark.sql(\"select name as Business_name,year(date) as year,round(avg(stars),2) as average_rating from review_restaurant group by year(date),name order by year(date) asc\")"
   ]
  },
  {
   "cell_type": "code",
   "execution_count": 73,
   "metadata": {
    "vscode": {
     "languageId": "json"
    }
   },
   "outputs": [
    {
     "data": {
      "application/vnd.jupyter.widget-view+json": {
       "model_id": "",
       "version_major": 2,
       "version_minor": 0
      },
      "text/plain": [
       "FloatProgress(value=0.0, bar_style='info', description='Progress:', layout=Layout(height='25px', width='50%'),…"
      ]
     },
     "metadata": {},
     "output_type": "display_data"
    },
    {
     "name": "stdout",
     "output_type": "stream",
     "text": [
      "DataFrame[]"
     ]
    }
   ],
   "source": [
    "query4.write.saveAsTable(\"yelp.query4\")"
   ]
  },
  {
   "cell_type": "markdown",
   "metadata": {},
   "source": [
    "### 31. Total Businesses on yelp based on categories"
   ]
  },
  {
   "cell_type": "code",
   "execution_count": 119,
   "metadata": {
    "vscode": {
     "languageId": "json"
    }
   },
   "outputs": [
    {
     "data": {
      "application/vnd.jupyter.widget-view+json": {
       "model_id": "",
       "version_major": 2,
       "version_minor": 0
      },
      "text/plain": [
       "FloatProgress(value=0.0, bar_style='info', description='Progress:', layout=Layout(height='25px', width='50%'),…"
      ]
     },
     "metadata": {},
     "output_type": "display_data"
    }
   ],
   "source": [
    "query31 = spark.sql(\"select count(business_id) as Total_Businesses, if(categories like'%Restaurant%','Restaurants',if(categories like'%Health%','Health & medical',IF(categories like'%Shopping%','Shopping',if(categories like'%Real Estate%','Real Estate',if(categories like'%Home Services%','Home Services', if(categories like'%Financial Services%','Financial Services',if(categories like'%Bars%','Bars',if(categories like'%Food %','Food',if(categories like'%Beauty & Spas%','Beauty & Spas',if(categories like'%Active Life%','Active Life',if(categories like'%Arts & Entertainment%','Arts & Entertainment',if(categories like'%Automotive%','Automotive',if(categories like'%Event Planning & Services%','Event Planning & Services',if(categories like'%Security Systems%','Security Systems',if(categories like'%Education%','Education',if(categories like'%Hotels & Travel%','Hotels & Travel',if(categories like'%Local Services%','Local Services',if(categories like'%Mass Media%','Mass Media',if(categories like'%Pet%','Pets',if(categories like'%Religious Organizations%','Religious Organizations',if(categories like'%Professional Services%','Professional Services',if(categories like'%Public Services & Government%','Public Services & Government','Others'))))))))))))))))))))))as Business_categories from business group by Business_categories \")"
   ]
  },
  {
   "cell_type": "code",
   "execution_count": 121,
   "metadata": {
    "vscode": {
     "languageId": "json"
    }
   },
   "outputs": [
    {
     "data": {
      "application/vnd.jupyter.widget-view+json": {
       "model_id": "",
       "version_major": 2,
       "version_minor": 0
      },
      "text/plain": [
       "FloatProgress(value=0.0, bar_style='info', description='Progress:', layout=Layout(height='25px', width='50%'),…"
      ]
     },
     "metadata": {},
     "output_type": "display_data"
    },
    {
     "name": "stdout",
     "output_type": "stream",
     "text": [
      "DataFrame[]"
     ]
    }
   ],
   "source": [
    "query31.write.saveAsTable(\"yelp.query31\")"
   ]
  },
  {
   "cell_type": "markdown",
   "metadata": {},
   "source": [
    "### 36. top restaurants according to city(use text box when enter city name we get top 10 restaurants in that city according to stars)"
   ]
  },
  {
   "cell_type": "code",
   "execution_count": 134,
   "metadata": {
    "vscode": {
     "languageId": "json"
    }
   },
   "outputs": [
    {
     "data": {
      "application/vnd.jupyter.widget-view+json": {
       "model_id": "",
       "version_major": 2,
       "version_minor": 0
      },
      "text/plain": [
       "FloatProgress(value=0.0, bar_style='info', description='Progress:', layout=Layout(height='25px', width='50%'),…"
      ]
     },
     "metadata": {},
     "output_type": "display_data"
    }
   ],
   "source": [
    "query36 = spark.sql(\"select * from (select City ,name,stars , row_number() over(partition by city order by stars desc ) as row from business_restaurant ) as t where row between 1 and 10 \" )"
   ]
  },
  {
   "cell_type": "code",
   "execution_count": 136,
   "metadata": {
    "vscode": {
     "languageId": "json"
    }
   },
   "outputs": [
    {
     "data": {
      "application/vnd.jupyter.widget-view+json": {
       "model_id": "",
       "version_major": 2,
       "version_minor": 0
      },
      "text/plain": [
       "FloatProgress(value=0.0, bar_style='info', description='Progress:', layout=Layout(height='25px', width='50%'),…"
      ]
     },
     "metadata": {},
     "output_type": "display_data"
    },
    {
     "name": "stdout",
     "output_type": "stream",
     "text": [
      "DataFrame[]"
     ]
    }
   ],
   "source": [
    "query36.write.saveAsTable(\"yelp.query36\")"
   ]
  },
  {
   "cell_type": "markdown",
   "id": "9198bd5a",
   "metadata": {},
   "source": [
    "### 37. How many elite members or non elite members are their in datasetm"
   ]
  },
  {
   "cell_type": "code",
   "execution_count": null,
   "id": "58d1f6bd",
   "metadata": {
    "vscode": {
     "languageId": "json"
    }
   },
   "outputs": [],
   "source": [
    "query37 = spark.sql(\"SELECT  ( SELECT  COUNT(*) FROM  user_review_restaurant WHERE elite not like '') AS elite_member,\\\n",
    "        (SELECT  COUNT(*) FROM  user_review_restaurant WHERE elite like '') AS Non_elite_member\")"
   ]
  },
  {
   "cell_type": "code",
   "execution_count": null,
   "id": "22197634",
   "metadata": {
    "vscode": {
     "languageId": "json"
    }
   },
   "outputs": [],
   "source": [
    "query37.write.saveAsTable(\"yelp.query37\")"
   ]
  },
  {
   "cell_type": "markdown",
   "metadata": {},
   "source": [
    "### 41. total users registered on yelp(for all categories not for restaurant only)"
   ]
  },
  {
   "cell_type": "code",
   "execution_count": 147,
   "metadata": {
    "vscode": {
     "languageId": "json"
    }
   },
   "outputs": [
    {
     "data": {
      "application/vnd.jupyter.widget-view+json": {
       "model_id": "",
       "version_major": 2,
       "version_minor": 0
      },
      "text/plain": [
       "FloatProgress(value=0.0, bar_style='info', description='Progress:', layout=Layout(height='25px', width='50%'),…"
      ]
     },
     "metadata": {},
     "output_type": "display_data"
    }
   ],
   "source": [
    "query41 = spark.sql(\"select year(Yelping_since) as year,count(1) as Total_users from user group by year(Yelping_since) order by year asc\")"
   ]
  },
  {
   "cell_type": "code",
   "execution_count": 149,
   "metadata": {
    "scrolled": true,
    "vscode": {
     "languageId": "json"
    }
   },
   "outputs": [
    {
     "data": {
      "application/vnd.jupyter.widget-view+json": {
       "model_id": "",
       "version_major": 2,
       "version_minor": 0
      },
      "text/plain": [
       "FloatProgress(value=0.0, bar_style='info', description='Progress:', layout=Layout(height='25px', width='50%'),…"
      ]
     },
     "metadata": {},
     "output_type": "display_data"
    },
    {
     "name": "stdout",
     "output_type": "stream",
     "text": [
      "DataFrame[]"
     ]
    }
   ],
   "source": [
    "query41.write.saveAsTable(\"yelp.query41\")"
   ]
  },
  {
   "cell_type": "markdown",
   "id": "9410b4b2",
   "metadata": {},
   "source": [
    "###  43. top restaurants according to city(use text box when enter city name we get bottom 10 restaurants in that city according to stars)"
   ]
  },
  {
   "cell_type": "code",
   "execution_count": null,
   "id": "8563ff14",
   "metadata": {
    "vscode": {
     "languageId": "json"
    }
   },
   "outputs": [],
   "source": [
    "query43 = spark.sql(\"select * from (select City ,name,stars , row_number() over(partition by city order by stars asc ) as row from business_restaurant ) as t where row between 1 and 10 \" )"
   ]
  },
  {
   "cell_type": "code",
   "execution_count": null,
   "id": "ead71160",
   "metadata": {
    "vscode": {
     "languageId": "json"
    }
   },
   "outputs": [],
   "source": [
    "query43.write.saveAsTable(\"yelp.query43\")"
   ]
  }
 ],
 "metadata": {
  "interpreter": {
   "hash": "a84110b53f09d7baf608f8f46f3082ba5ab9793bec5d9f49cdd6f26f8d9fb25d"
  },
  "kernelspec": {
   "display_name": "PySpark",
   "language": "",
   "name": "pysparkkernel"
  },
  "language_info": {
   "codemirror_mode": {
    "name": "python",
    "version": 3
   },
   "mimetype": "text/x-python",
   "name": "pyspark",
   "pygments_lexer": "python3"
  }
 },
 "nbformat": 4,
 "nbformat_minor": 5
}
