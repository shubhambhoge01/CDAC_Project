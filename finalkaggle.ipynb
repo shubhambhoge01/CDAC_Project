{
 "cells": [
  {
   "cell_type": "code",
   "execution_count": null,
   "id": "996a4f45",
   "metadata": {},
   "outputs": [],
   "source": [
    "!pip install opendatasets"
   ]
  },
  {
   "cell_type": "code",
   "execution_count": null,
   "id": "16934e54",
   "metadata": {},
   "outputs": [],
   "source": [
    "import pandas as pd\n",
    "import opendatasets as od"
   ]
  },
  {
   "cell_type": "code",
   "execution_count": null,
   "id": "6e81b398",
   "metadata": {},
   "outputs": [],
   "source": [
    "od.download(\"https://www.kaggle.com/yelpprojectpurpose/yelp-dataset-for-project\")"
   ]
  },
  {
   "cell_type": "code",
   "execution_count": null,
   "id": "3d9b27fb",
   "metadata": {},
   "outputs": [],
   "source": [
    "review = pd.read_csv(\"./yelp-dataset-for-project/Review.csv\")"
   ]
  },
  {
   "cell_type": "code",
   "execution_count": null,
   "id": "4e565f7e",
   "metadata": {},
   "outputs": [],
   "source": [
    "review.to_csv(\"s3://project21-vita/kaggle/review.csv\",index=False)"
   ]
  },
  {
   "cell_type": "code",
   "execution_count": null,
   "id": "65aefefa",
   "metadata": {},
   "outputs": [],
   "source": [
    "del review"
   ]
  },
  {
   "cell_type": "code",
   "execution_count": null,
   "id": "73f43e59",
   "metadata": {},
   "outputs": [],
   "source": [
    "user = pd.read_csv(\"./yelp-dataset-for-project/User.csv\")"
   ]
  },
  {
   "cell_type": "code",
   "execution_count": null,
   "id": "5feb3cba",
   "metadata": {},
   "outputs": [],
   "source": [
    "user.to_csv(\"s3://project21-vita/kaggle/user.csv\",index=False)"
   ]
  },
  {
   "cell_type": "code",
   "execution_count": null,
   "id": "a3b49e74",
   "metadata": {},
   "outputs": [],
   "source": [
    "del user"
   ]
  },
  {
   "cell_type": "code",
   "execution_count": null,
   "id": "f8343b2c",
   "metadata": {},
   "outputs": [],
   "source": [
    "business = pd.read_csv(\"./yelp-dataset-for-project/Business.csv\")"
   ]
  },
  {
   "cell_type": "code",
   "execution_count": null,
   "id": "809e77df",
   "metadata": {},
   "outputs": [],
   "source": [
    "business.to_csv(\"s3://project21-vita/kaggle/business.csv\",index=False)"
   ]
  },
  {
   "cell_type": "code",
   "execution_count": null,
   "id": "2a3c083a",
   "metadata": {},
   "outputs": [],
   "source": [
    "del business"
   ]
  },
  {
   "cell_type": "code",
   "execution_count": null,
   "id": "917d925c",
   "metadata": {},
   "outputs": [],
   "source": [
    "checkin = pd.read_csv(\"./yelp-dataset-for-project/Checkin.csv\")"
   ]
  },
  {
   "cell_type": "code",
   "execution_count": null,
   "id": "58bcb086",
   "metadata": {},
   "outputs": [],
   "source": [
    "checkin.to_csv(\"s3://project21-vita/kaggle/checkin.csv\",index=False)"
   ]
  },
  {
   "cell_type": "code",
   "execution_count": null,
   "id": "bff4cd7f",
   "metadata": {},
   "outputs": [],
   "source": [
    "del checkin"
   ]
  },
  {
   "cell_type": "code",
   "execution_count": null,
   "id": "432467d8",
   "metadata": {},
   "outputs": [],
   "source": [
    "attribute = pd.read_csv(\"./yelp-dataset-for-project/Business_attribute.csv\")"
   ]
  },
  {
   "cell_type": "code",
   "execution_count": null,
   "id": "a954023d",
   "metadata": {},
   "outputs": [],
   "source": [
    "attribute.to_csv(\"s3://project21-vita/kaggle/attribute.csv\",index=False)"
   ]
  },
  {
   "cell_type": "code",
   "execution_count": null,
   "id": "edc505c9",
   "metadata": {},
   "outputs": [],
   "source": [
    "del attribute"
   ]
  },
  {
   "cell_type": "code",
   "execution_count": null,
   "id": "68bcdfa2",
   "metadata": {},
   "outputs": [],
   "source": [
    "hours = pd.read_csv(\"./yelp-dataset-for-project/Business_hours.csv\")"
   ]
  },
  {
   "cell_type": "code",
   "execution_count": null,
   "id": "7f8f4d2b",
   "metadata": {},
   "outputs": [],
   "source": [
    "hours.to_csv(\"s3://project21-vita/kaggle/hours.csv\",index=False)"
   ]
  },
  {
   "cell_type": "code",
   "execution_count": null,
   "id": "ff255d22",
   "metadata": {},
   "outputs": [],
   "source": [
    "del hours"
   ]
  },
  {
   "cell_type": "code",
   "execution_count": null,
   "id": "226ee979",
   "metadata": {},
   "outputs": [],
   "source": [
    "tip = pd.read_csv(\"./yelp-dataset-for-project/Tip.csv\")"
   ]
  },
  {
   "cell_type": "code",
   "execution_count": null,
   "id": "503616df",
   "metadata": {},
   "outputs": [],
   "source": [
    "tip.to_csv(\"s3://project21-vita/kaggle/tip.csv\",index=False)"
   ]
  },
  {
   "cell_type": "code",
   "execution_count": null,
   "id": "7ccab8fa",
   "metadata": {},
   "outputs": [],
   "source": [
    "del tip "
   ]
  }
 ],
 "metadata": {
  "kernelspec": {
   "display_name": "Python 3",
   "language": "python",
   "name": "python3"
  },
  "language_info": {
   "codemirror_mode": {
    "name": "ipython",
    "version": 3
   },
   "file_extension": ".py",
   "mimetype": "text/x-python",
   "name": "python",
   "nbconvert_exporter": "python",
   "pygments_lexer": "ipython3",
   "version": "3.9.5"
  }
 },
 "nbformat": 4,
 "nbformat_minor": 5
}
